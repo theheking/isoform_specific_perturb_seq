{
 "cells": [
  {
   "cell_type": "code",
   "execution_count": 1,
   "metadata": {},
   "outputs": [],
   "source": [
    "import pandas as pd\n",
    "import gepia"
   ]
  },
  {
   "cell_type": "code",
   "execution_count": 14,
   "metadata": {},
   "outputs": [],
   "source": [
    "bp=gepia.survival()"
   ]
  },
  {
   "cell_type": "code",
   "execution_count": 15,
   "metadata": {},
   "outputs": [
    {
     "name": "stdout",
     "output_type": "stream",
     "text": [
      "axisunit: month\n",
      "dataset: BLCA\n",
      "groupcutoff1: 50\n",
      "groupcutoff2: 50\n",
      "highcol: #ff0000\n",
      "ifconf: conf\n",
      "ifhr: hr\n",
      "is_sub: false\n",
      "lowcol: #0000ff\n",
      "methodoption: os\n",
      "signature: ['CCR7', 'SELL', 'IL7R']\n",
      "signature_norm: \n",
      "subtype: \n",
      "out_dir:./\n"
     ]
    }
   ],
   "source": [
    "bp.showParams()\n"
   ]
  },
  {
   "cell_type": "code",
   "execution_count": 21,
   "metadata": {},
   "outputs": [
    {
     "name": "stdout",
     "output_type": "stream",
     "text": [
      "./ENST00000440973.5_survival_5TU8Y.pdf\n"
     ]
    },
    {
     "data": {
      "text/html": [
       "\n",
       "        <iframe\n",
       "            width=\"500\"\n",
       "            height=\"500\"\n",
       "            src=\"./ENST00000440973.5_survival_5TU8Y.pdf\"\n",
       "            frameborder=\"0\"\n",
       "            allowfullscreen\n",
       "            \n",
       "        ></iframe>\n",
       "        "
      ],
      "text/plain": [
       "<IPython.lib.display.IFrame at 0x1329faf10>"
      ]
     },
     "execution_count": 21,
     "metadata": {},
     "output_type": "execute_result"
    }
   ],
   "source": [
    "bp.setParam('dataset',\"BRCA\")\n",
    "bp.setParam('signature',\"ENST00000440973.5,ENST00000404742.5\")\n",
    "bp.setParam('subtype',\"LuminalA\")\n",
    "# bp.setParam('dataset',\"BRCA\")\n",
    "# Basal-like / Triple negative (135)\n",
    "\n",
    "# HER2+ non-luminal (66)\n",
    "\n",
    "# Luminal A (415)\n",
    "\n",
    "# Luminal B (192)\n",
    "from IPython.display import IFrame\n",
    "\n",
    "result=bp.query()\n",
    "IFrame(result,width=500,height=500)\n"
   ]
  }
 ],
 "metadata": {
  "kernelspec": {
   "display_name": "base",
   "language": "python",
   "name": "python3"
  },
  "language_info": {
   "codemirror_mode": {
    "name": "ipython",
    "version": 3
   },
   "file_extension": ".py",
   "mimetype": "text/x-python",
   "name": "python",
   "nbconvert_exporter": "python",
   "pygments_lexer": "ipython3",
   "version": "3.11.7"
  }
 },
 "nbformat": 4,
 "nbformat_minor": 2
}
